{
  "nbformat": 4,
  "nbformat_minor": 0,
  "metadata": {
    "colab": {
      "provenance": [],
      "authorship_tag": "ABX9TyM4ZtWT2rbuUP80uhQn4qyr",
      "include_colab_link": true
    },
    "kernelspec": {
      "name": "python3",
      "display_name": "Python 3"
    },
    "language_info": {
      "name": "python"
    }
  },
  "cells": [
    {
      "cell_type": "markdown",
      "metadata": {
        "id": "view-in-github",
        "colab_type": "text"
      },
      "source": [
        "<a href=\"https://colab.research.google.com/github/DangPhan23/DangPhan23-Homework_AI/blob/main/Fuzzy_Logic_Prediction_Of_Rainfall_.ipynb\" target=\"_parent\"><img src=\"https://colab.research.google.com/assets/colab-badge.svg\" alt=\"Open In Colab\"/></a>"
      ]
    },
    {
      "cell_type": "code",
      "execution_count": null,
      "metadata": {
        "id": "XCnh1spt3bbY"
      },
      "outputs": [],
      "source": [
        "pip install scikit-fuzzy"
      ]
    },
    {
      "cell_type": "code",
      "source": [
        "import numpy as np\n",
        "import skfuzzy as fuzz\n",
        "import matplotlib.pyplot as plt\n",
        "from skfuzzy import control as ctrl\n",
        "Temperature=ctrl.Antecedent(np.arange(20.2,41.4,0.1),'Temperature')\n",
        "Windspeed=ctrl.Antecedent(np.arange(0.6,3.2,0.1),'Windspeed')\n",
        "Rain=ctrl.Antecedent(np.arange(0,9.2,0.1),'Rain')\n",
        "Prediction=ctrl.Consequent(np.arange(0,43,1),'Prediction')\n",
        "\n",
        "Temperature['VeryLow'] = fuzz.trimf(Temperature.universe,[20.3,23.8,27.3])\n",
        "Temperature['Low'] = fuzz.trimf(Temperature.universe,[23.8,27.3,30.8])\n",
        "Temperature['Nomal'] = fuzz.trimf(Temperature.universe,[27.3,30.8,34.3])\n",
        "Temperature['High'] = fuzz.trimf(Temperature.universe,[30.8,34.3,37.8])\n",
        "Temperature['VeryHigh'] = fuzz.trimf(Temperature.universe,[34.3,37.8,41.3])\n",
        "\n",
        "Windspeed['VeryLow'] = fuzz.trimf(Windspeed.universe,[0.7,1.1,1.5])\n",
        "Windspeed['Low'] = fuzz.trimf(Windspeed.universe,[1.1,1.5,1.9])\n",
        "Windspeed['Nomal'] = fuzz.trimf(Windspeed.universe,[.5,1.9,2.3])\n",
        "Windspeed['High'] = fuzz.trimf(Windspeed.universe,[1.9,2.3,2.7])\n",
        "Windspeed['VeryHigh'] = fuzz.trimf(Windspeed.universe,[2.3,2.7,3.1])\n",
        "\n",
        "Rainfall['VeryLow'] = fuzz.trimf(Rainfall.universe,[0.1,1.6,3.1])\n",
        "Rainfall['Low'] = fuzz.trimf(Rainfall.universe,[1.6,3.1,4.6])\n",
        "Rainfall['Nomal'] = fuzz.trimf(Rainfall.universe,[3.1,4.6,6.1])\n",
        "Rainfall['High'] = fuzz.trimf(Rainfall.universe,[4.6,6.1,7.6])\n",
        "Rainfall['VeryHigh'] = fuzz.trimf(Rainfall.universe,[6.1,7.6,9.1])\n",
        "\n",
        "Prediction['VeryLow'] = fuzz.trimf(Prediction.universe,[0,7,14])\n",
        "Prediction['Low'] = fuzz.trimf(Prediction.universe,[7,14,21])\n",
        "Prediction['Nomal'] = fuzz.trimf(Prediction.universe,[14,21,28])\n",
        "Prediction['High'] = fuzz.trimf(Prediction.universe,[21,28,35])\n",
        "Prediction['VeryHigh'] = fuzz.trimf(Prediction.universe,[28,35,42])\n",
        "\n",
        "rule1 = ctrl.Rule(Temperature['VeryLow']&Windspeed['VeryLow']&Rainfall['VeryLow'],Prediction ['VeryLow'])\n",
        "rule2 = ctrl.Rule(Temperature['VeryLow']&Windspeed['Low']&Rainfall['Low'],Prediction ['VeryLow'])\n",
        "rule3 = ctrl.Rule(Temperature['VeryLow']&Windspeed['Nomal']&Rainfall['Nomal'],Prediction ['Low'])\n",
        "rule4 = ctrl.Rule(Temperature['VeryLow']&Windspeed['High']&Rainfall['High'],Prediction ['Low'])\n",
        "rule5 = ctrl.Rule(Temperature['VeryLow']&Windspeed['VeryHigh']&Rainfall['VeryHigh'],Prediction ['Nomal'])\n",
        "\n",
        "rule6 = ctrl.Rule(Temperature['Low']&Windspeed['VeryLow']&Rainfall['VeryLow'],Prediction ['VeryLow'])\n",
        "rule7 = ctrl.Rule(Temperature['Low']&Windspeed['Low']&Rainfall['Low'],Prediction ['Low'])\n",
        "rule8 = ctrl.Rule(Temperature['Low']&Windspeed['Nomal']&Rainfall['Nomal'],Prediction ['Low'])\n",
        "rule9 = ctrl.Rule(Temperature['Low']&Windspeed['High']&Rainfall['High'],Prediction ['Nomal'])\n",
        "rule10 = ctrl.Rule(Temperature['Low']&Windspeed['VeryHigh']&Rainfall['VeryHigh'],Prediction ['Nomal'])\n",
        "\n",
        "rule11 = ctrl.Rule(Temperature['Nomal']&Windspeed['VeryLow']&Rainfall['VeryLow'],Prediction ['Low'])\n",
        "rule12 = ctrl.Rule(Temperature['Nomal']&Windspeed['Low']&Rainfall['Low'],Prediction ['Nomal'])\n",
        "rule13 = ctrl.Rule(Temperature['Nomal']&Windspeed['Nomal']&Rainfall['Nomal'],Prediction ['Nomal'])\n",
        "rule14 = ctrl.Rule(Temperature['Nomal']&Windspeed['High']&Rainfall['High'],Prediction ['High'])\n",
        "rule15 = ctrl.Rule(Temperature['Nomal']&Windspeed['VeryHigh']&Rainfall['VeryHigh'],Prediction ['VeryHigh'])\n",
        "\n",
        "rule16 = ctrl.Rule(Temperature['High']&Windspeed['VeryLow']&Rainfall['VeryLow'],Prediction ['Nomal'])\n",
        "rule17 = ctrl.Rule(Temperature['High']&Windspeed['Low']&Rainfall['Low'],Prediction ['Nomal'])\n",
        "rule18 = ctrl.Rule(Temperature['High']&Windspeed['Nomal']&Rainfall['Nomal'],Prediction ['Nomal'])\n",
        "rule19 = ctrl.Rule(Temperature['High']&Windspeed['High']&Rainfall['High'],Prediction ['High'])\n",
        "rule20 = ctrl.Rule(Temperature['High']&Windspeed['VeryHigh']&Rainfall['VeryHigh'],Prediction ['VeryHigh'])\n",
        "\n",
        "rule21 = ctrl.Rule(Temperature['VeryHigh']&Windspeed['VeryLow']&Rainfall['VeryLow'],Prediction ['Nomal'])\n",
        "rule22 = ctrl.Rule(Temperature['VeryHigh']&Windspeed['Low']&Rainfall['Low'],Prediction ['High'])\n",
        "rule23 = ctrl.Rule(Temperature['VeryHigh']&Windspeed['Nomal']&Rainfall['Nomal'],Prediction ['High'])\n",
        "rule24 = ctrl.Rule(Temperature['VeryHigh']&Windspeed['High']&Rainfall['High'],Prediction ['VeryHigh'])\n",
        "rule25 = ctrl.Rule(Temperature['VeryHigh']&Windspeed['VeryHigh']&Rainfall['VeryHigh'],Prediction ['VeryHigh'])\n",
        "\n",
        "Temperature.view()\n",
        "Windspeed.view()\n",
        "Rainfall.view()\n",
        "Conclusioning_ctrl=ctrl.ControlSystem([rule1,rule2,rule3,rule4,rule5,rule6,rule7,rule8,rule9,rule10,rule11,rule12,rule13,rule14,rule15,rule16,rule17,rule18,rule19,rule20,rule21,rule22,rule23,rule24,rule25])\n",
        "predictioning = ctrl.ControlSystemSimulation(predictioning_ctrl)\n",
        "predictioning.input['Temperature'] = 20\n",
        "predictioning.input['Windspeed'] = 2.5\n",
        "predictioning.input['Rainfall'] = 7.4\n",
        "\n",
        "predictioning.compute()\n",
        "print(predictioning.output['Prediction'])\n",
        "prediction.view(sim = predictioning)"
      ],
      "metadata": {
        "id": "aCe_aJqT3v60"
      },
      "execution_count": null,
      "outputs": []
    }
  ]
}