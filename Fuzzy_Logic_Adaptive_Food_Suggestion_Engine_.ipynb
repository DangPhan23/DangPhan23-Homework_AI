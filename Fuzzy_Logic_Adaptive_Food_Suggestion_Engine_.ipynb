{
  "nbformat": 4,
  "nbformat_minor": 0,
  "metadata": {
    "colab": {
      "provenance": [],
      "authorship_tag": "ABX9TyNGobuabNtUC0l36phpKRGx",
      "include_colab_link": true
    },
    "kernelspec": {
      "name": "python3",
      "display_name": "Python 3"
    },
    "language_info": {
      "name": "python"
    }
  },
  "cells": [
    {
      "cell_type": "markdown",
      "metadata": {
        "id": "view-in-github",
        "colab_type": "text"
      },
      "source": [
        "<a href=\"https://colab.research.google.com/github/DangPhan23/DangPhan23-Homework_AI/blob/main/Fuzzy_Logic_Adaptive_Food_Suggestion_Engine_.ipynb\" target=\"_parent\"><img src=\"https://colab.research.google.com/assets/colab-badge.svg\" alt=\"Open In Colab\"/></a>"
      ]
    },
    {
      "cell_type": "code",
      "execution_count": null,
      "metadata": {
        "id": "d83njBvBYQaP"
      },
      "outputs": [],
      "source": [
        "pip install scikit-fuzzy"
      ]
    },
    {
      "cell_type": "code",
      "source": [
        "import numpy as np\n",
        "import skfuzzy as fuzz\n",
        "import matplotlib.pyplot as plt\n",
        "from skfuzzy import control as ctrl\n",
        "Taste=ctrl.Antecedent(np.arange(0,10,0.1),'Taste')\n",
        "Environment=ctrl.Antecedent(np.arange(0,10,0.1),'Environment')\n",
        "Budget=ctrl.Antecedent(np.arange(0,1001,0.1),'Budget')\n",
        "User_Review = ctrl.Antecedent(np.arange(0,5.1,0.1), 'User_Review')\n",
        "Location = ctrl.Antecedent(np.arange(0,20.1,0.1), 'Location')\n",
        "Preference=ctrl.Consequent(np.arange(0,15.1,0.1),'Preference')\n",
        "\n",
        "Taste['Low'] = fuzz.trimf(Taste.universe,[0,2.5,5])\n",
        "Taste['Medium'] = fuzz.trimf(Taste.universe,[2.5,5,7.5])\n",
        "Taste['High'] = fuzz.trimf(Taste.universe,[5,7.5,10])\n",
        "\n",
        "Environment['Low'] = fuzz.trimf(Environment.universe,[0,2.5,5])\n",
        "Environment['Medium'] = fuzz.trimf(Environment.universe,[2.5,5,7.5])\n",
        "Environment['High'] = fuzz.trimf(Environment.universe,[5,7.5,10])\n",
        "\n",
        "Budget['LessPreferred'] = fuzz.trimf(Budget.universe,[0,250,500])\n",
        "Budget['Preferred'] = fuzz.trimf(Budget.universe,[250,500,750])\n",
        "Budget['MorePreferred'] = fuzz.trimf(Budget.universe,[500,750,1000])\n",
        "\n",
        "User_Review['LessPreferred'] = fuzz.trimf(User_Review.universe,[0,1.25,2.5])\n",
        "User_Review['Preferred'] = fuzz.trimf(User_Review.universe,[1.25,2.5,3.75])\n",
        "User_Review['MorePreferred'] = fuzz.trimf(User_Review.universe,[2.5,3.75,5])\n",
        "\n",
        "Location['Closer'] = fuzz.trimf(Location.universe,[0,5,10])\n",
        "Location['Near'] = fuzz.trimf(Location.universe,[5,10,15])\n",
        "Location['Far'] = fuzz.trimf(Location.universe,[10,15,20])\n",
        "\n",
        "Preference['Level1'] = fuzz.trimf(Preference.universe,[0,2.5,5])\n",
        "Preference['Level2'] = fuzz.trimf(Preference.universe,[2.5,5,7.5])\n",
        "Preference['Level3'] = fuzz.trimf(Preference.universe,[5,7.5,10])\n",
        "Preference['Level4'] = fuzz.trimf(Preference.universe,[7.5,10,12.5])\n",
        "Preference['Level5'] = fuzz.trimf(Preference.universe,[10,12.5,15])\n",
        "\n",
        "rule1 = ctrl.Rule(Taste['Low']&Environment['Low']&Budget['LessPreferred']&User_Review['LessPreferred']&Location['Far'],Preference ['Level1'])\n",
        "rule2 = ctrl.Rule(Taste['Low']&Environment['Medium']&Budget['Preferred']&User_Review['Preferred']&Location['Near'],Preference ['Level2'])\n",
        "rule3 = ctrl.Rule(Taste['Low']&Environment['High']&Budget['MorePreferred']&User_Review['MorePreferred']&Location['Closer'],Preference ['Level2'])\n",
        "\n",
        "rule4 = ctrl.Rule(Taste['Medium']&Environment['Low']&Budget['LessPreferred']&User_Review['LessPreferred']&Location['Far'],Preference ['Level3'])\n",
        "rule5 = ctrl.Rule(Taste['Medium']&Environment['Medium']&Budget['Preferred']&User_Review['Preferred']&Location['Near'],Preference ['Level4'])\n",
        "rule5 = ctrl.Rule(Taste['Medium']&Environment['High']&Budget['MorePreferred']&User_Review['MorePreferred']&Location['Closer'],Preference ['Level4'])\n",
        "\n",
        "rule6 = ctrl.Rule(Taste['High']&Environment['Low']&Budget['LessPreferred']&User_Review['LessPreferred']&Location['Far'],Preference ['Level3'])\n",
        "rule7 = ctrl.Rule(Taste['High']&Environment['Medium']&Budget['Preferred']&User_Review['Preferred']&Location['Near'],Preference ['Level4'])\n",
        "rule8 = ctrl.Rule(Taste['High']&Environment['High']&Budget['MorePreferred']&User_Review['MorePreferred']&Location['Closer'],Preference ['Level5'])\n",
        "\n",
        "Taste.view()\n",
        "Environment.view()\n",
        "Budget.view()\n",
        "User_Review.view()\n",
        "Location.view()\n",
        "Preference.view()\n",
        "Preferencing _ctrl=ctrl.ControlSystem([rule1,rule2,rule3,rule4,rule5,rule6,rule7,rule8])\n",
        "Preferencing = ctrl.ControlSystemSimulation(Preferencing_ctrl)\n",
        "Preferencing.input['Taste'] = 9\n",
        "Preferencing.input['Environment'] = 8\n",
        "Preferencing.input['Budget'] = 5000\n",
        "Preferencing.input['User_Review'] = 5\n",
        "Preferencing.input['Location'] = 15\n",
        "Preferencing.compute()\n",
        "print(Preferencing.output['Preference'])\n",
        "Preference.view(sim = Preferencing)"
      ],
      "metadata": {
        "id": "99Q3dW0QYUA-"
      },
      "execution_count": null,
      "outputs": []
    }
  ]
}